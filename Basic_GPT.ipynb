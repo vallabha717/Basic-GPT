{
  "nbformat": 4,
  "nbformat_minor": 0,
  "metadata": {
    "colab": {
      "provenance": [],
      "gpuType": "T4"
    },
    "kernelspec": {
      "name": "python3",
      "display_name": "Python 3"
    },
    "language_info": {
      "name": "python"
    },
    "accelerator": "GPU"
  },
  "cells": [
    {
      "cell_type": "code",
      "source": [
        "import torch\n",
        "import torch.nn as nn\n",
        "from torch.nn import functional as F"
      ],
      "metadata": {
        "id": "tX_gO7vTIx8V"
      },
      "execution_count": null,
      "outputs": []
    },
    {
      "cell_type": "code",
      "source": [
        "# hyperparameters\n",
        "batch_size = 16 # how many independent sequences will we process in parallel?\n",
        "block_size = 32 # what is the maximum context length for predictions?\n",
        "max_iters = 5000\n",
        "eval_interval = 100\n",
        "learning_rate = 1e-3\n",
        "device = 'cuda' if torch.cuda.is_available() else 'cpu'\n",
        "eval_iters = 200\n",
        "n_embd = 64\n",
        "n_head = 4\n",
        "n_layer = 4\n",
        "dropout = 0.0\n",
        "# ------------"
      ],
      "metadata": {
        "id": "jT9vRH-k4Dd_"
      },
      "execution_count": null,
      "outputs": []
    },
    {
      "cell_type": "code",
      "source": [
        "torch.manual_seed(1337)"
      ],
      "metadata": {
        "colab": {
          "base_uri": "https://localhost:8080/"
        },
        "id": "uR_Eio_44IDW",
        "outputId": "6a99328b-10ea-4cae-fcc9-d28861490170"
      },
      "execution_count": null,
      "outputs": [
        {
          "output_type": "execute_result",
          "data": {
            "text/plain": [
              "<torch._C.Generator at 0x7c690e7a03b0>"
            ]
          },
          "metadata": {},
          "execution_count": 3
        }
      ]
    },
    {
      "cell_type": "code",
      "source": [
        "!wget https://raw.githubusercontent.com/karpathy/char-rnn/master/data/tinyshakespeare/input.txt\n",
        "with open('input.txt', 'r', encoding='utf-8') as f:\n",
        "    text = f.read()"
      ],
      "metadata": {
        "colab": {
          "base_uri": "https://localhost:8080/"
        },
        "id": "DYS03_N74SJM",
        "outputId": "f43e9e9c-5bc5-4300-f859-ad36a88d5264"
      },
      "execution_count": null,
      "outputs": [
        {
          "output_type": "stream",
          "name": "stdout",
          "text": [
            "--2024-07-23 11:22:36--  https://raw.githubusercontent.com/karpathy/char-rnn/master/data/tinyshakespeare/input.txt\n",
            "Resolving raw.githubusercontent.com (raw.githubusercontent.com)... 185.199.108.133, 185.199.109.133, 185.199.110.133, ...\n",
            "Connecting to raw.githubusercontent.com (raw.githubusercontent.com)|185.199.108.133|:443... connected.\n",
            "HTTP request sent, awaiting response... 200 OK\n",
            "Length: 1115394 (1.1M) [text/plain]\n",
            "Saving to: ‘input.txt’\n",
            "\n",
            "input.txt           100%[===================>]   1.06M  --.-KB/s    in 0.02s   \n",
            "\n",
            "2024-07-23 11:22:37 (49.6 MB/s) - ‘input.txt’ saved [1115394/1115394]\n",
            "\n"
          ]
        }
      ]
    },
    {
      "cell_type": "code",
      "source": [
        "# here are all the unique characters that occur in this text\n",
        "chars = sorted(list(set(text)))\n",
        "vocab_size = len(chars)\n",
        "# create a mapping from characters to integers\n",
        "stoi = { ch:i for i,ch in enumerate(chars) }\n",
        "itos = { i:ch for i,ch in enumerate(chars) }\n",
        "encode = lambda s: [stoi[c] for c in s] # encoder: take a string, output a list of integers\n",
        "decode = lambda l: ''.join([itos[i] for i in l]) # decoder: take a list of integers, output a string\n"
      ],
      "metadata": {
        "id": "WMrty34h4Vlz"
      },
      "execution_count": null,
      "outputs": []
    },
    {
      "cell_type": "code",
      "source": [
        "# Train and test splits\n",
        "data = torch.tensor(encode(text), dtype=torch.long)\n",
        "n = int(0.9*len(data)) # first 90% will be train, rest val\n",
        "train_data = data[:n]\n",
        "val_data = data[n:]"
      ],
      "metadata": {
        "id": "SEWJceYi4YKM"
      },
      "execution_count": null,
      "outputs": []
    },
    {
      "cell_type": "code",
      "source": [
        "# data loading\n",
        "def get_batch(split):\n",
        "    # generate a small batch of data of inputs x and targets y\n",
        "    data = train_data if split == 'train' else val_data\n",
        "    ix = torch.randint(len(data) - block_size, (batch_size,))\n",
        "    x = torch.stack([data[i:i+block_size] for i in ix])\n",
        "    y = torch.stack([data[i+1:i+block_size+1] for i in ix])\n",
        "    x, y = x.to(device), y.to(device)\n",
        "    return x, y"
      ],
      "metadata": {
        "id": "iMaTksyY4bL5"
      },
      "execution_count": null,
      "outputs": []
    },
    {
      "cell_type": "code",
      "source": [
        "@torch.no_grad()\n",
        "def estimate_loss():\n",
        "    out = {}\n",
        "    model.eval()\n",
        "    for split in ['train', 'val']:\n",
        "        losses = torch.zeros(eval_iters)\n",
        "        for k in range(eval_iters):\n",
        "            X, Y = get_batch(split)\n",
        "            logits, loss = model(X, Y)\n",
        "            losses[k] = loss.item()\n",
        "        out[split] = losses.mean()\n",
        "    model.train()\n",
        "    return out"
      ],
      "metadata": {
        "id": "oCJmio9a4dMR"
      },
      "execution_count": null,
      "outputs": []
    },
    {
      "cell_type": "code",
      "source": [
        "class Head(nn.Module):\n",
        "    \"\"\" one head of self-attention \"\"\"\n",
        "\n",
        "    def __init__(self, head_size):\n",
        "        super().__init__()\n",
        "        self.key = nn.Linear(n_embd, head_size, bias=False)\n",
        "        self.query = nn.Linear(n_embd, head_size, bias=False)\n",
        "        self.value = nn.Linear(n_embd, head_size, bias=False)\n",
        "        self.register_buffer('tril', torch.tril(torch.ones(block_size, block_size)))\n",
        "\n",
        "        self.dropout = nn.Dropout(dropout)\n",
        "\n",
        "    def forward(self, x):\n",
        "        # input of size (batch, time-step, channels)\n",
        "        # output of size (batch, time-step, head size)\n",
        "        B,T,C = x.shape\n",
        "        k = self.key(x)   # (B,T,hs)\n",
        "        q = self.query(x) # (B,T,hs)\n",
        "        # compute attention scores (\"affinities\")\n",
        "        wei = q @ k.transpose(-2,-1) * k.shape[-1]**-0.5 # (B, T, hs) @ (B, hs, T) -> (B, T, T)\n",
        "        wei = wei.masked_fill(self.tril[:T, :T] == 0, float('-inf')) # (B, T, T)\n",
        "        wei = F.softmax(wei, dim=-1) # (B, T, T)\n",
        "        wei = self.dropout(wei)\n",
        "        # perform the weighted aggregation of the values\n",
        "        v = self.value(x) # (B,T,hs)\n",
        "        out = wei @ v # (B, T, T) @ (B, T, hs) -> (B, T, hs)\n",
        "        return out"
      ],
      "metadata": {
        "id": "bcXQpkYg4hdj"
      },
      "execution_count": null,
      "outputs": []
    },
    {
      "cell_type": "code",
      "source": [
        "class MultiHeadAttention(nn.Module):\n",
        "    \"\"\" multiple heads of self-attention in parallel \"\"\"\n",
        "\n",
        "    def __init__(self, num_heads, head_size):\n",
        "        super().__init__()\n",
        "        self.heads = nn.ModuleList([Head(head_size) for _ in range(num_heads)])\n",
        "        self.proj = nn.Linear(head_size * num_heads, n_embd)\n",
        "        self.dropout = nn.Dropout(dropout)\n",
        "\n",
        "    def forward(self, x):\n",
        "        out = torch.cat([h(x) for h in self.heads], dim=-1)\n",
        "        out = self.dropout(self.proj(out))\n",
        "        return out"
      ],
      "metadata": {
        "id": "O0TIkAAD4ibl"
      },
      "execution_count": null,
      "outputs": []
    },
    {
      "cell_type": "code",
      "source": [
        "class FeedFoward(nn.Module):\n",
        "    \"\"\" a simple linear layer followed by a non-linearity \"\"\"\n",
        "\n",
        "    def __init__(self, n_embd):\n",
        "        super().__init__()\n",
        "        self.net = nn.Sequential(\n",
        "            nn.Linear(n_embd, 4 * n_embd),\n",
        "            nn.ReLU(),\n",
        "            nn.Linear(4 * n_embd, n_embd),\n",
        "            nn.Dropout(dropout),\n",
        "        )\n",
        "\n",
        "    def forward(self, x):\n",
        "        return self.net(x)"
      ],
      "metadata": {
        "id": "dEKfYO2_4mXn"
      },
      "execution_count": null,
      "outputs": []
    },
    {
      "cell_type": "code",
      "source": [
        "class Block(nn.Module):\n",
        "    \"\"\" Transformer block: communication followed by computation \"\"\"\n",
        "\n",
        "    def __init__(self, n_embd, n_head):\n",
        "        # n_embd: embedding dimension, n_head: the number of heads we'd like\n",
        "        super().__init__()\n",
        "        head_size = n_embd // n_head\n",
        "        self.sa = MultiHeadAttention(n_head, head_size)\n",
        "        self.ffwd = FeedFoward(n_embd)\n",
        "        self.ln1 = nn.LayerNorm(n_embd)\n",
        "        self.ln2 = nn.LayerNorm(n_embd)\n",
        "\n",
        "    def forward(self, x):\n",
        "        x = x + self.sa(self.ln1(x))\n",
        "        x = x + self.ffwd(self.ln2(x))\n",
        "        return x"
      ],
      "metadata": {
        "id": "KFINEsnS4pPE"
      },
      "execution_count": null,
      "outputs": []
    },
    {
      "cell_type": "code",
      "source": [
        "class GPTLanguageModel(nn.Module):\n",
        "\n",
        "    def __init__(self):\n",
        "        super().__init__()\n",
        "        # each token directly reads off the logits for the next token from a lookup table\n",
        "        self.token_embedding_table = nn.Embedding(vocab_size, n_embd)\n",
        "        self.position_embedding_table = nn.Embedding(block_size, n_embd)\n",
        "        self.blocks = nn.Sequential(*[Block(n_embd, n_head=n_head) for _ in range(n_layer)])\n",
        "        self.ln_f = nn.LayerNorm(n_embd) # final layer norm\n",
        "        self.lm_head = nn.Linear(n_embd, vocab_size)\n",
        "\n",
        "        # better init, not covered in the original GPT video, but important, will cover in followup video\n",
        "        self.apply(self._init_weights)\n",
        "\n",
        "    def _init_weights(self, module):\n",
        "        if isinstance(module, nn.Linear):\n",
        "            torch.nn.init.normal_(module.weight, mean=0.0, std=0.02)\n",
        "            if module.bias is not None:\n",
        "                torch.nn.init.zeros_(module.bias)\n",
        "        elif isinstance(module, nn.Embedding):\n",
        "            torch.nn.init.normal_(module.weight, mean=0.0, std=0.02)\n",
        "\n",
        "    def forward(self, idx, targets=None):\n",
        "        B, T = idx.shape\n",
        "\n",
        "        # idx and targets are both (B,T) tensor of integers\n",
        "        tok_emb = self.token_embedding_table(idx) # (B,T,C)\n",
        "        pos_emb = self.position_embedding_table(torch.arange(T, device=device)) # (T,C)\n",
        "        x = tok_emb + pos_emb # (B,T,C)\n",
        "        x = self.blocks(x) # (B,T,C)\n",
        "        x = self.ln_f(x) # (B,T,C)\n",
        "        logits = self.lm_head(x) # (B,T,vocab_size)\n",
        "\n",
        "        if targets is None:\n",
        "            loss = None\n",
        "        else:\n",
        "            B, T, C = logits.shape\n",
        "            logits = logits.view(B*T, C)\n",
        "            targets = targets.view(B*T)\n",
        "            loss = F.cross_entropy(logits, targets)\n",
        "\n",
        "        return logits, loss\n",
        "\n",
        "    def generate(self, idx, max_new_tokens):\n",
        "        # idx is (B, T) array of indices in the current context\n",
        "        for _ in range(max_new_tokens):\n",
        "            # crop idx to the last block_size tokens\n",
        "            idx_cond = idx[:, -block_size:]\n",
        "            # get the predictions\n",
        "            logits, loss = self(idx_cond)\n",
        "            # focus only on the last time step\n",
        "            logits = logits[:, -1, :] # becomes (B, C)\n",
        "            # apply softmax to get probabilities\n",
        "            probs = F.softmax(logits, dim=-1) # (B, C)\n",
        "            # sample from the distribution\n",
        "            idx_next = torch.multinomial(probs, num_samples=1) # (B, 1)\n",
        "            # append sampled index to the running sequence\n",
        "            idx = torch.cat((idx, idx_next), dim=1) # (B, T+1)\n",
        "        return idx"
      ],
      "metadata": {
        "id": "tESi4XL34u2y"
      },
      "execution_count": null,
      "outputs": []
    },
    {
      "cell_type": "code",
      "source": [
        "model = GPTLanguageModel()\n",
        "m = model.to(device)\n",
        "# print the number of parameters in the model\n",
        "print(sum(p.numel() for p in m.parameters())/1e6, 'M parameters')"
      ],
      "metadata": {
        "colab": {
          "base_uri": "https://localhost:8080/"
        },
        "id": "mNMjRNWr42Me",
        "outputId": "4c404960-c672-4d99-d3e8-8e0121723903"
      },
      "execution_count": null,
      "outputs": [
        {
          "output_type": "stream",
          "name": "stdout",
          "text": [
            "0.209729 M parameters\n"
          ]
        }
      ]
    },
    {
      "cell_type": "code",
      "source": [
        "# create a PyTorch optimizer\n",
        "optimizer = torch.optim.AdamW(model.parameters(), lr=learning_rate)"
      ],
      "metadata": {
        "id": "yV2aYYAD427V"
      },
      "execution_count": null,
      "outputs": []
    },
    {
      "cell_type": "code",
      "source": [
        "for iter in range(max_iters):\n",
        "\n",
        "    # every once in a while evaluate the loss on train and val sets\n",
        "    if iter % eval_interval == 0 or iter == max_iters - 1:\n",
        "        losses = estimate_loss()\n",
        "        print(f\"step {iter}: train loss {losses['train']:.4f}, val loss {losses['val']:.4f}\")\n",
        "\n",
        "    # sample a batch of data\n",
        "    xb, yb = get_batch('train')\n",
        "\n",
        "    # evaluate the loss\n",
        "    logits, loss = model(xb, yb)\n",
        "    optimizer.zero_grad(set_to_none=True)\n",
        "    loss.backward()\n",
        "    optimizer.step()"
      ],
      "metadata": {
        "colab": {
          "base_uri": "https://localhost:8080/"
        },
        "id": "6TuYbxXQ44g6",
        "outputId": "3d6a461f-84c4-4fc1-9273-ba77a23f24d6"
      },
      "execution_count": null,
      "outputs": [
        {
          "output_type": "stream",
          "name": "stdout",
          "text": [
            "step 0: train loss 4.1959, val loss 4.1962\n",
            "step 100: train loss 2.6229, val loss 2.6166\n",
            "step 200: train loss 2.4555, val loss 2.4488\n",
            "step 300: train loss 2.3810, val loss 2.3928\n",
            "step 400: train loss 2.3202, val loss 2.3223\n",
            "step 500: train loss 2.2364, val loss 2.2541\n",
            "step 600: train loss 2.1812, val loss 2.2234\n",
            "step 700: train loss 2.1326, val loss 2.1583\n",
            "step 800: train loss 2.0932, val loss 2.1352\n",
            "step 900: train loss 2.0499, val loss 2.0987\n",
            "step 1000: train loss 2.0349, val loss 2.0819\n",
            "step 1100: train loss 1.9994, val loss 2.0706\n",
            "step 1200: train loss 1.9857, val loss 2.0726\n",
            "step 1300: train loss 1.9638, val loss 2.0401\n",
            "step 1400: train loss 1.9386, val loss 2.0296\n",
            "step 1500: train loss 1.9028, val loss 1.9947\n",
            "step 1600: train loss 1.8821, val loss 1.9914\n",
            "step 1700: train loss 1.8785, val loss 1.9813\n",
            "step 1800: train loss 1.8746, val loss 1.9878\n",
            "step 1900: train loss 1.8451, val loss 1.9599\n",
            "step 2000: train loss 1.8294, val loss 1.9525\n",
            "step 2100: train loss 1.8333, val loss 1.9716\n",
            "step 2200: train loss 1.8067, val loss 1.9342\n",
            "step 2300: train loss 1.8009, val loss 1.9301\n",
            "step 2400: train loss 1.7751, val loss 1.9097\n",
            "step 2500: train loss 1.7753, val loss 1.9112\n",
            "step 2600: train loss 1.7572, val loss 1.8935\n",
            "step 2700: train loss 1.7596, val loss 1.9044\n",
            "step 2800: train loss 1.7485, val loss 1.8818\n",
            "step 2900: train loss 1.7349, val loss 1.8797\n",
            "step 3000: train loss 1.7420, val loss 1.8873\n",
            "step 3100: train loss 1.7331, val loss 1.8899\n",
            "step 3200: train loss 1.7262, val loss 1.8832\n",
            "step 3300: train loss 1.7109, val loss 1.8544\n",
            "step 3400: train loss 1.7205, val loss 1.8765\n",
            "step 3500: train loss 1.7111, val loss 1.8623\n",
            "step 3600: train loss 1.7134, val loss 1.8649\n",
            "step 3700: train loss 1.6996, val loss 1.8583\n",
            "step 3800: train loss 1.6962, val loss 1.8547\n",
            "step 3900: train loss 1.6856, val loss 1.8406\n",
            "step 4000: train loss 1.6803, val loss 1.8274\n",
            "step 4100: train loss 1.6742, val loss 1.8410\n",
            "step 4200: train loss 1.6706, val loss 1.8450\n",
            "step 4300: train loss 1.6722, val loss 1.8282\n",
            "step 4400: train loss 1.6620, val loss 1.8330\n",
            "step 4500: train loss 1.6661, val loss 1.8250\n",
            "step 4600: train loss 1.6471, val loss 1.8433\n",
            "step 4700: train loss 1.6588, val loss 1.8178\n",
            "step 4800: train loss 1.6478, val loss 1.8191\n",
            "step 4900: train loss 1.6431, val loss 1.8307\n",
            "step 4999: train loss 1.6503, val loss 1.8342\n"
          ]
        }
      ]
    },
    {
      "cell_type": "code",
      "source": [
        "def generate(idx):\n",
        "  idx_cond = idx[:, -block_size:]\n",
        "  # get the predictions\n",
        "  logits, loss = model(idx_cond)\n",
        "  # focus only on the last time step\n",
        "  logits = logits[:, -1, :] # becomes (B, C)\n",
        "  # apply softmax to get probabilities\n",
        "  probs = F.softmax(logits, dim=-1) # (B, C)\n",
        "  # sample from the distribution\n",
        "  idx_next = torch.multinomial(probs, num_samples=1) # (B, 1)\n",
        "  # append sampled index to the running sequence\n",
        "  idx = torch.cat((idx, idx_next), dim=1) # (B, T+1)\n",
        "  return idx"
      ],
      "metadata": {
        "id": "976F06FW55L3"
      },
      "execution_count": null,
      "outputs": []
    },
    {
      "cell_type": "code",
      "source": [
        "context = \"w\"\n",
        "print(encode(context))"
      ],
      "metadata": {
        "colab": {
          "base_uri": "https://localhost:8080/"
        },
        "id": "49YmjWc78teW",
        "outputId": "3cd32ba5-5080-448b-8295-3552ef2d0198"
      },
      "execution_count": null,
      "outputs": [
        {
          "output_type": "stream",
          "name": "stdout",
          "text": [
            "[61]\n"
          ]
        }
      ]
    },
    {
      "cell_type": "code",
      "source": [
        "idx=torch.tensor([encode(context)])\n",
        "idx"
      ],
      "metadata": {
        "colab": {
          "base_uri": "https://localhost:8080/"
        },
        "id": "eMjxjfqw9Kou",
        "outputId": "4087efe8-da80-4ce3-e8f7-317cb41a1e8f"
      },
      "execution_count": null,
      "outputs": [
        {
          "output_type": "execute_result",
          "data": {
            "text/plain": [
              "tensor([[61]])"
            ]
          },
          "metadata": {},
          "execution_count": 26
        }
      ]
    },
    {
      "cell_type": "code",
      "source": [
        "context = \"w\"\n",
        "idx=torch.tensor([encode(context)], dtype=torch.long, device=device)\n",
        "print(decode(m.generate(idx, max_new_tokens=500)[0].tolist()))"
      ],
      "metadata": {
        "colab": {
          "base_uri": "https://localhost:8080/"
        },
        "id": "p4cOEpOr6uwQ",
        "outputId": "d60bd0d0-cb1d-409d-b90b-2ba076aa1947"
      },
      "execution_count": null,
      "outputs": [
        {
          "output_type": "stream",
          "name": "stdout",
          "text": [
            "with pleason mary.\n",
            "You with a what\n",
            "That hen of-renions the men.\n",
            "\n",
            "CLRIFFHORD:\n",
            "Where no sugh own.\n",
            "\n",
            "Jurious Moy:\n",
            "Which might. \n",
            "CEMIO:\n",
            "Pray it therefultianus well.\n",
            "\n",
            "LEONd Seved Made inkingitings:\n",
            "Poin that the gRiction:\n",
            "Whith I shall now then is dande,\n",
            "To may I wantoblaing againsting wear so! why lumps a made so lack.\n",
            "\n",
            "Prive, must Lord,\n",
            "And I it have brother'nd Captey\n",
            "Though to meised the nowness futing appriantuss\n",
            "Beieng itter us speiclies kings as him\n",
            "Fravous crawatch time wout in for Glouck.\n",
            "\n",
            "GLOU\n"
          ]
        }
      ]
    },
    {
      "cell_type": "code",
      "source": [
        "# generate from the model\n",
        "context = torch.zeros((1, 1), dtype=torch.long, device=device)\n",
        "print(decode(m.generate(context, max_new_tokens=500)[0].tolist()))\n",
        "#open('more.txt', 'w').write(decode(m.generate(context, max_new_tokens=10000)[0].tolist()))"
      ],
      "metadata": {
        "id": "rBMI-YbK47IH"
      },
      "execution_count": null,
      "outputs": []
    },
    {
      "cell_type": "code",
      "source": [
        "context = \"w\"\n",
        "idx=torch.tensor([encode(context)], dtype=torch.long, device=device)\n",
        "logits, loss = model(idx)\n",
        "logits"
      ],
      "metadata": {
        "colab": {
          "base_uri": "https://localhost:8080/"
        },
        "id": "si1EmoF9BGVY",
        "outputId": "a15bebd6-2f07-4681-a45c-f8b7a0476318"
      },
      "execution_count": null,
      "outputs": [
        {
          "output_type": "execute_result",
          "data": {
            "text/plain": [
              "tensor([[[  0.4301,   2.8255,  -0.9732,  -7.4144,  -7.1434,  -0.2701,   0.7377,\n",
              "           -1.3133,  -0.0407,  -7.0788,  -0.9276,  -0.3784,  -0.7852,  -2.5938,\n",
              "           -3.9895,  -5.6384,  -4.8989,  -4.9770,  -4.9688,  -6.7367,  -3.2602,\n",
              "           -2.0530,  -6.4898,  -4.8292,  -3.8396,  -5.8515,  -5.9446,  -4.4851,\n",
              "           -6.5002,  -6.7461,  -4.1959,  -5.8436,  -4.0003,  -5.6313,  -7.2865,\n",
              "           -3.7865, -10.2564,  -5.5001,  -5.3904,   3.5384,  -1.1425,  -0.1845,\n",
              "           -1.0654,   3.5278,  -0.2386,  -1.3817,   3.8595,   4.0593,  -4.5906,\n",
              "           -2.6691,   0.9871,  -1.7440,   1.1630,   3.2278,  -1.7138,  -3.7100,\n",
              "            1.1601,   0.7361,   0.5997,  -1.4390,  -2.7474,  -1.5636,  -3.4233,\n",
              "            0.5334,  -3.7831]]], device='cuda:0', grad_fn=<ViewBackward0>)"
            ]
          },
          "metadata": {},
          "execution_count": 28
        }
      ]
    },
    {
      "cell_type": "code",
      "source": [
        "# focus only on the last time step\n",
        "logits = logits[:, -1, :] # becomes (B, C)\n",
        "# apply softmax to get probabilities\n",
        "probs = F.softmax(logits, dim=-1) # (B, C)\n",
        "# sample from the distribution\n",
        "idx_next = torch.multinomial(probs, num_samples=1) # (B, 1)\n",
        "idx_next"
      ],
      "metadata": {
        "colab": {
          "base_uri": "https://localhost:8080/"
        },
        "id": "kzzgKgt_BieA",
        "outputId": "ca5ced6d-80b0-4fd2-df83-a6140b734830"
      },
      "execution_count": null,
      "outputs": [
        {
          "output_type": "execute_result",
          "data": {
            "text/plain": [
              "tensor([[43]], device='cuda:0')"
            ]
          },
          "metadata": {},
          "execution_count": 29
        }
      ]
    },
    {
      "cell_type": "code",
      "source": [
        "import time\n",
        "while True:\n",
        "    query=input(\"\\nyou \")\n",
        "    if query == \"exit\":\n",
        "        break\n",
        "    idx = torch.tensor([encode(query)], dtype=torch.long, device=device)\n",
        "    logits,_ = model(idx)\n",
        "    # focus only on the last time step\n",
        "    logits = logits[:, -1, :] # becomes (B, C)\n",
        "    # apply softmax to get probabilities\n",
        "    probs = F.softmax(logits, dim=-1) # (B, C)\n",
        "    # sample from the distribution\n",
        "    idx_next = torch.multinomial(probs, num_samples=1) # (B, 1)\n",
        "    outputs=decode(m.generate(idx_next, max_new_tokens=50)[0].tolist())\n",
        "    print(\"Generating Text\")\n",
        "    for item in outputs:\n",
        "      print(\"{:<0}\".format(item), end=\"\")\n",
        "      time.sleep(0.3)\n",
        "\n",
        "print(\"Thank you\")"
      ],
      "metadata": {
        "colab": {
          "base_uri": "https://localhost:8080/"
        },
        "id": "VEjz8c5e9p5T",
        "outputId": "5152f238-5f77-4902-9f03-b41b01937c08"
      },
      "execution_count": null,
      "outputs": [
        {
          "output_type": "stream",
          "name": "stdout",
          "text": [
            "\n",
            "you tiny\n",
            "Generating Text\n",
            ":\n",
            "Ay, and have drues whe, my north wind,\n",
            "I wastoo'd\n",
            "you exit\n",
            "Thank you\n"
          ]
        }
      ]
    },
    {
      "cell_type": "code",
      "source": [],
      "metadata": {
        "id": "nBbq5wFNBAh_"
      },
      "execution_count": null,
      "outputs": []
    },
    {
      "cell_type": "code",
      "source": [
        "my_list = [\"apple\", \"banana\", \"cherry\"]\n",
        "\n",
        "print(\" \".join(my_list))"
      ],
      "metadata": {
        "colab": {
          "base_uri": "https://localhost:8080/"
        },
        "id": "1Xp7ijomCUb9",
        "outputId": "c853128d-2acd-489d-877e-0423978d0682"
      },
      "execution_count": null,
      "outputs": [
        {
          "output_type": "stream",
          "name": "stdout",
          "text": [
            "apple banana cherry\n"
          ]
        }
      ]
    },
    {
      "cell_type": "code",
      "source": [
        "for item in my_list:\n",
        "  print(\"{:<1}\".format(item), end=\" \")"
      ],
      "metadata": {
        "colab": {
          "base_uri": "https://localhost:8080/"
        },
        "id": "aNpjJmlHCVdW",
        "outputId": "7cf038f4-ae44-4413-f25d-2738c55637c2"
      },
      "execution_count": null,
      "outputs": [
        {
          "output_type": "stream",
          "name": "stdout",
          "text": [
            "apple banana cherry "
          ]
        }
      ]
    },
    {
      "cell_type": "code",
      "source": [
        "import torch\n",
        "import torch.nn as nn\n",
        "\n",
        "# Sample outputs (replace with your actual outputs)\n",
        "output1 = torch.randn(1024, 768)\n",
        "output2 = torch.randn(1024, 768)\n",
        "\n",
        "# Concatenate along the desired dimension (here, dimension 1)\n",
        "concatenated_output = torch.cat((output1, output2), dim=1)  # Output shape: (1024, 1536)\n",
        "\n",
        "# Define the linear layer\n",
        "linear_layer = nn.Linear(1536, output_size)  # Replace output_size with desired output dimension\n",
        "\n",
        "# Feed the concatenated output into the linear layer\n",
        "final_output = linear_layer(concatenated_output)"
      ],
      "metadata": {
        "id": "1J8GGIc_Cwzc",
        "outputId": "78b53ad4-0786-44d6-9fcb-ed4ad9cf8f95",
        "colab": {
          "base_uri": "https://localhost:8080/",
          "height": 211
        }
      },
      "execution_count": null,
      "outputs": [
        {
          "output_type": "error",
          "ename": "NameError",
          "evalue": "name 'output_size' is not defined",
          "traceback": [
            "\u001b[0;31m---------------------------------------------------------------------------\u001b[0m",
            "\u001b[0;31mNameError\u001b[0m                                 Traceback (most recent call last)",
            "\u001b[0;32m<ipython-input-1-78c61e50672b>\u001b[0m in \u001b[0;36m<cell line: 12>\u001b[0;34m()\u001b[0m\n\u001b[1;32m     10\u001b[0m \u001b[0;34m\u001b[0m\u001b[0m\n\u001b[1;32m     11\u001b[0m \u001b[0;31m# Define the linear layer\u001b[0m\u001b[0;34m\u001b[0m\u001b[0;34m\u001b[0m\u001b[0m\n\u001b[0;32m---> 12\u001b[0;31m \u001b[0mlinear_layer\u001b[0m \u001b[0;34m=\u001b[0m \u001b[0mnn\u001b[0m\u001b[0;34m.\u001b[0m\u001b[0mLinear\u001b[0m\u001b[0;34m(\u001b[0m\u001b[0;36m1536\u001b[0m\u001b[0;34m,\u001b[0m \u001b[0moutput_size\u001b[0m\u001b[0;34m)\u001b[0m  \u001b[0;31m# Replace output_size with desired output dimension\u001b[0m\u001b[0;34m\u001b[0m\u001b[0;34m\u001b[0m\u001b[0m\n\u001b[0m\u001b[1;32m     13\u001b[0m \u001b[0;34m\u001b[0m\u001b[0m\n\u001b[1;32m     14\u001b[0m \u001b[0;31m# Feed the concatenated output into the linear layer\u001b[0m\u001b[0;34m\u001b[0m\u001b[0;34m\u001b[0m\u001b[0m\n",
            "\u001b[0;31mNameError\u001b[0m: name 'output_size' is not defined"
          ]
        }
      ]
    },
    {
      "cell_type": "code",
      "source": [
        "import re\n",
        "\n",
        "original_string = \"\"\"3:03 AM Session 1084791523 (Full Name: Melissa Keim) has been started by the system...\n",
        "3:03 AM Connecting to: control.rsc-app26-01.logmeinrescue.com (158.120.24.6:443)\n",
        "3:03 AM Connected to Applet (Elliptic Curve Diffie-Hellman 2048 bits, ECDHE-RSA-AES256-GCM-SHA384 256 bits)\n",
        "3:03 AM Shrivallabha: Welcome to Arise Live Support, I will be glad to assist you. Please hold for a moment while I review your issue details. During this time is there anything you would like to add regarding the issue you are experiencing?\"\"\"\n",
        "\n",
        "# Define a regular expression to match the unwanted part\n",
        "pattern = r\".*?\\.+\\n\\n\"  # Matches everything until two consecutive newlines\n",
        "\n",
        "# Use re.sub to substitute the matched part with an empty string\n",
        "new_string = re.sub(pattern, \"\", original_string)\n",
        "\n",
        "print(new_string)"
      ],
      "metadata": {
        "id": "03Ra4zijCEyV",
        "outputId": "dfe7821f-3f0e-4690-db6a-285ef7882351",
        "colab": {
          "base_uri": "https://localhost:8080/"
        }
      },
      "execution_count": null,
      "outputs": [
        {
          "output_type": "stream",
          "name": "stdout",
          "text": [
            "3:03 AM Session 1084791523 (Full Name: Melissa Keim) has been started by the system...\n",
            "3:03 AM Connecting to: control.rsc-app26-01.logmeinrescue.com (158.120.24.6:443)\n",
            "3:03 AM Connected to Applet (Elliptic Curve Diffie-Hellman 2048 bits, ECDHE-RSA-AES256-GCM-SHA384 256 bits)\n",
            "3:03 AM Shrivallabha: Welcome to Arise Live Support, I will be glad to assist you. Please hold for a moment while I review your issue details. During this time is there anything you would like to add regarding the issue you are experiencing?\n"
          ]
        }
      ]
    },
    {
      "cell_type": "code",
      "source": [],
      "metadata": {
        "id": "wLlVva6k7xfg"
      },
      "execution_count": null,
      "outputs": []
    }
  ]
}